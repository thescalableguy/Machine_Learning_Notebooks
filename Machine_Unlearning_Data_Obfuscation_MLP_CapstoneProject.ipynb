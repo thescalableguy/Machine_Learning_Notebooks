{
  "nbformat": 4,
  "nbformat_minor": 0,
  "metadata": {
    "colab": {
      "provenance": [],
      "gpuType": "T4",
      "authorship_tag": "ABX9TyNYjMgGfi1LJkpyuNnowCnS",
      "include_colab_link": true
    },
    "kernelspec": {
      "name": "python3",
      "display_name": "Python 3"
    },
    "language_info": {
      "name": "python"
    },
    "accelerator": "GPU"
  },
  "cells": [
    {
      "cell_type": "markdown",
      "metadata": {
        "id": "view-in-github",
        "colab_type": "text"
      },
      "source": [
        "<a href=\"https://colab.research.google.com/github/thescalableguy/Machine_Learning_Notebooks/blob/main/Machine_Unlearning_Data_Obfuscation_MLP_CapstoneProject.ipynb\" target=\"_parent\"><img src=\"https://colab.research.google.com/assets/colab-badge.svg\" alt=\"Open In Colab\"/></a>"
      ]
    },
    {
      "cell_type": "markdown",
      "source": [
        "# Machine Unlearning with Data Obfuscation\n",
        "\n",
        "```\n",
        "Problem Statement: MLP on MNIST Dataset\n",
        "```\n",
        "\n",
        "**Model Selection:**\n",
        "*   Dataset: MNIST is simple (28x28 grayscale images) → ideal for MLP.\n",
        "*   Task: Multi-class classification (10 digits)\n",
        "*   Why MLP: MLP is a good starting point for tabular/flat pixel data (784-dim input vector)."
      ],
      "metadata": {
        "id": "owzMRyUfHgRP"
      }
    },
    {
      "cell_type": "code",
      "execution_count": null,
      "metadata": {
        "id": "8od4qPj5s_wD"
      },
      "outputs": [],
      "source": [
        "import torch\n",
        "import torch.nn as nn\n",
        "import torch.optim as optim\n",
        "from torchvision import datasets, transforms\n",
        "from torch.utils.data import DataLoader, TensorDataset\n",
        "import numpy as np\n",
        "from sklearn.metrics import classification_report, confusion_matrix, accuracy_score\n",
        "import matplotlib.pyplot as plt\n",
        "import seaborn as sns\n",
        "import time\n",
        "import copy\n",
        "import os"
      ]
    },
    {
      "cell_type": "markdown",
      "source": [
        "# Device Configuration"
      ],
      "metadata": {
        "id": "3OfprFDqJBWG"
      }
    },
    {
      "cell_type": "code",
      "source": [
        "device = torch.device(\"cuda\" if torch.cuda.is_available() else \"cpu\")\n",
        "print(f\"Using device: {device}\")"
      ],
      "metadata": {
        "id": "bkInRhEq-A6w",
        "colab": {
          "base_uri": "https://localhost:8080/"
        },
        "outputId": "eabf8a6e-f108-4df7-971a-025e0c3372fe"
      },
      "execution_count": null,
      "outputs": [
        {
          "output_type": "stream",
          "name": "stdout",
          "text": [
            "Using device: cpu\n"
          ]
        }
      ]
    },
    {
      "cell_type": "markdown",
      "source": [
        "# Configuration"
      ],
      "metadata": {
        "id": "_PqUbiIUI5k4"
      }
    },
    {
      "cell_type": "code",
      "source": [
        "NUM_CLASSES = 10\n",
        "INPUT_SIZE = 28 * 28 # MNIST image dimensions\n",
        "HIDDEN_SIZE = 128\n",
        "LEARNING_RATE = 0.001\n",
        "BATCH_SIZE = 64\n",
        "NUM_EPOCHS = 5 # Number of times to iterate over the entire dataset"
      ],
      "metadata": {
        "id": "oRh3A8Ei91JW"
      },
      "execution_count": null,
      "outputs": []
    },
    {
      "cell_type": "markdown",
      "source": [
        "# Model Architecture\n",
        "\n",
        "```\n",
        "Input (784) → Dense(256) → ReLU → Dense(128) → ReLU → Dense(10) → Softmax\n",
        "```\n",
        "\n",
        "*   Linear layers with ReLU activation\n",
        "*   Final layer with 10 output neurons (one per class)\n",
        "\n",
        "\n"
      ],
      "metadata": {
        "id": "AR5eI-WjJIww"
      }
    },
    {
      "cell_type": "code",
      "source": [
        "class SimpleMLP(nn.Module):\n",
        "    def __init__(self, input_size, hidden_size, num_classes):\n",
        "        super(SimpleMLP, self).__init__()\n",
        "        self.flatten = nn.Flatten() # Flattens the 28x28 image\n",
        "        self.layer1 = nn.Linear(input_size, hidden_size)\n",
        "        self.relu = nn.ReLU()\n",
        "        self.layer2 = nn.Linear(hidden_size, num_classes)\n",
        "\n",
        "    def forward(self, x):\n",
        "        x = self.flatten(x)\n",
        "        x = self.layer1(x)\n",
        "        x = self.relu(x)\n",
        "        x = self.layer2(x)\n",
        "        return x"
      ],
      "metadata": {
        "id": "2OYMQg0i-Gaa"
      },
      "execution_count": null,
      "outputs": []
    },
    {
      "cell_type": "code",
      "source": [
        "# --- Instantiate the Model ---\n",
        "model = SimpleMLP(INPUT_SIZE, HIDDEN_SIZE, NUM_CLASSES).to(device)\n",
        "print(\"Model Architecture:\")\n",
        "print(model)"
      ],
      "metadata": {
        "id": "v3EQyG3N-K3n",
        "colab": {
          "base_uri": "https://localhost:8080/"
        },
        "outputId": "99ee3b22-9e7e-4ecf-cca6-94dd61eee934"
      },
      "execution_count": null,
      "outputs": [
        {
          "output_type": "stream",
          "name": "stdout",
          "text": [
            "Model Architecture:\n",
            "SimpleMLP(\n",
            "  (flatten): Flatten(start_dim=1, end_dim=-1)\n",
            "  (layer1): Linear(in_features=784, out_features=128, bias=True)\n",
            "  (relu): ReLU()\n",
            "  (layer2): Linear(in_features=128, out_features=10, bias=True)\n",
            ")\n"
          ]
        }
      ]
    },
    {
      "cell_type": "markdown",
      "source": [
        "# Data Pre-Processing\n",
        "\n",
        "*   Flattened images from 28x28 to 784\n",
        "*   Normalized pixel values from [0–255] → [0–1]\n"
      ],
      "metadata": {
        "id": "URXR_c-3JSPn"
      }
    },
    {
      "cell_type": "code",
      "source": [
        "print(\"\\nLoading MNIST data...\")\n",
        "transform = transforms.Compose([\n",
        "    transforms.ToTensor(),\n",
        "    transforms.Normalize((0.1307,), (0.3081,)) # Mean and std dev for MNIST\n",
        "])"
      ],
      "metadata": {
        "id": "Dc5uCc---Osb",
        "colab": {
          "base_uri": "https://localhost:8080/"
        },
        "outputId": "183fa474-c8a1-40c7-ed1a-ff4ab2a43184"
      },
      "execution_count": null,
      "outputs": [
        {
          "output_type": "stream",
          "name": "stdout",
          "text": [
            "\n",
            "Loading MNIST data...\n"
          ]
        }
      ]
    },
    {
      "cell_type": "code",
      "source": [
        "# Download and load the training data\n",
        "train_dataset = datasets.MNIST(root='./data', train=True, download=True, transform=transform)\n",
        "# Download and load the test data\n",
        "test_dataset = datasets.MNIST(root='./data', train=False, download=True, transform=transform)\n",
        "\n",
        "# Create DataLoaders\n",
        "train_loader = DataLoader(dataset=train_dataset, batch_size=BATCH_SIZE, shuffle=True)\n",
        "test_loader = DataLoader(dataset=test_dataset, batch_size=BATCH_SIZE, shuffle=False) # No need to shuffle test data\n",
        "\n",
        "print(f\"Training samples: {len(train_dataset)}\")\n",
        "print(f\"Test samples: {len(test_dataset)}\")\n",
        "print(f\"Number of training batches: {len(train_loader)}\")\n",
        "print(f\"Number of test batches: {len(test_loader)}\")"
      ],
      "metadata": {
        "id": "Voe8mxxF-Ttv",
        "colab": {
          "base_uri": "https://localhost:8080/"
        },
        "outputId": "ea3ed65e-4c93-4484-c7d6-fa7605791484"
      },
      "execution_count": null,
      "outputs": [
        {
          "output_type": "stream",
          "name": "stderr",
          "text": [
            "100%|██████████| 9.91M/9.91M [00:00<00:00, 59.1MB/s]\n",
            "100%|██████████| 28.9k/28.9k [00:00<00:00, 1.73MB/s]\n",
            "100%|██████████| 1.65M/1.65M [00:00<00:00, 14.3MB/s]\n",
            "100%|██████████| 4.54k/4.54k [00:00<00:00, 4.73MB/s]"
          ]
        },
        {
          "output_type": "stream",
          "name": "stdout",
          "text": [
            "Training samples: 60000\n",
            "Test samples: 10000\n",
            "Number of training batches: 938\n",
            "Number of test batches: 157\n"
          ]
        },
        {
          "output_type": "stream",
          "name": "stderr",
          "text": [
            "\n"
          ]
        }
      ]
    },
    {
      "cell_type": "markdown",
      "source": [
        "# Loss Function and Optimizer\n",
        "  "
      ],
      "metadata": {
        "id": "dSGDYg7YJx2f"
      }
    },
    {
      "cell_type": "code",
      "source": [
        "criterion = nn.CrossEntropyLoss()\n",
        "optimizer = optim.Adam(model.parameters(), lr=LEARNING_RATE) # Adam optimizer\n",
        "\n",
        "print(f\"\\nOptimizer: Adam, Learning Rate: {LEARNING_RATE}\")\n",
        "print(f\"Loss Function: CrossEntropyLoss\")"
      ],
      "metadata": {
        "id": "dByQSEqE-YPz",
        "colab": {
          "base_uri": "https://localhost:8080/"
        },
        "outputId": "df94b3ac-6e84-4dcc-a2ea-cda8114fff04"
      },
      "execution_count": null,
      "outputs": [
        {
          "output_type": "stream",
          "name": "stdout",
          "text": [
            "\n",
            "Optimizer: Adam, Learning Rate: 0.001\n",
            "Loss Function: CrossEntropyLoss\n"
          ]
        }
      ]
    },
    {
      "cell_type": "markdown",
      "source": [
        "# Model Training"
      ],
      "metadata": {
        "id": "nTY7zkxTJ455"
      }
    },
    {
      "cell_type": "code",
      "source": [
        "print(f\"\\nStarting Training for {NUM_EPOCHS} epochs...\")\n",
        "start_time = time.time()\n",
        "\n",
        "for epoch in range(NUM_EPOCHS):\n",
        "    model.train() # Set the model to training mode\n",
        "    running_loss = 0.0\n",
        "    correct_predictions = 0\n",
        "    total_samples = 0\n",
        "\n",
        "    for i, (images, labels) in enumerate(train_loader):\n",
        "        images = images.to(device)\n",
        "        labels = labels.to(device)\n",
        "\n",
        "        # --- Forward Pass ---\n",
        "        outputs = model(images)\n",
        "        loss = criterion(outputs, labels)\n",
        "\n",
        "        # --- Backward Pass and Optimize ---\n",
        "        optimizer.zero_grad()\n",
        "        loss.backward()\n",
        "        optimizer.step()\n",
        "\n",
        "        # --- Track Statistics ---\n",
        "        running_loss += loss.item() * images.size(0)\n",
        "        _, predicted = torch.max(outputs.data, 1)\n",
        "        total_samples += labels.size(0)\n",
        "        correct_predictions += (predicted == labels).sum().item()\n",
        "\n",
        "    # Calculate epoch statistics\n",
        "    epoch_loss = running_loss / total_samples\n",
        "    epoch_acc = correct_predictions / total_samples\n",
        "    print(f'--- Epoch [{epoch+1}/{NUM_EPOCHS}] Completed ---')\n",
        "    print(f'Training Loss: {epoch_loss:.4f}, Training Accuracy: {epoch_acc:.4f}')\n",
        "\n",
        "\n",
        "training_time = time.time() - start_time\n",
        "print(f\"\\nTraining finished in {training_time:.2f} seconds.\")\n",
        "\n",
        "# Save the trained model\n",
        "torch.save(model.state_dict(), 'mnist_mlp_pytorch.pth')\n",
        "print(\"Trained model state dictionary saved to mnist_mlp_pytorch.pth\")"
      ],
      "metadata": {
        "id": "GmSXZaBd-iKJ",
        "colab": {
          "base_uri": "https://localhost:8080/"
        },
        "outputId": "c8acfad4-2354-4ac4-896a-7149217eb9ae"
      },
      "execution_count": null,
      "outputs": [
        {
          "output_type": "stream",
          "name": "stdout",
          "text": [
            "\n",
            "Starting Training for 5 epochs...\n",
            "--- Epoch [1/5] Completed ---\n",
            "Training Loss: 0.2612, Training Accuracy: 0.9238\n",
            "--- Epoch [2/5] Completed ---\n",
            "Training Loss: 0.1164, Training Accuracy: 0.9647\n",
            "--- Epoch [3/5] Completed ---\n",
            "Training Loss: 0.0813, Training Accuracy: 0.9756\n",
            "--- Epoch [4/5] Completed ---\n",
            "Training Loss: 0.0620, Training Accuracy: 0.9809\n",
            "--- Epoch [5/5] Completed ---\n",
            "Training Loss: 0.0498, Training Accuracy: 0.9839\n",
            "\n",
            "Training finished in 84.89 seconds.\n",
            "Trained model state dictionary saved to mnist_mlp_pytorch.pth\n"
          ]
        }
      ]
    },
    {
      "cell_type": "markdown",
      "source": [
        "# Model Evaluation"
      ],
      "metadata": {
        "id": "xNKisshhJ-lq"
      }
    },
    {
      "cell_type": "code",
      "source": [
        "print(\"\\n--- Evaluating Model on Test Set ---\")\n",
        "model.eval()\n",
        "all_preds = []\n",
        "all_labels = []\n",
        "\n",
        "# No need to track gradients during evaluation\n",
        "with torch.no_grad():\n",
        "    n_correct = 0\n",
        "    n_samples = 0\n",
        "    for images, labels in test_loader:\n",
        "        images = images.to(device)\n",
        "        labels = labels.to(device)\n",
        "\n",
        "        outputs = model(images) # Forward pass\n",
        "\n",
        "        # Max k calculation: value, index\n",
        "        _, predicted = torch.max(outputs.data, 1)\n",
        "        n_samples += labels.size(0)\n",
        "        n_correct += (predicted == labels).sum().item()\n",
        "\n",
        "        # Store predictions and labels for detailed metrics\n",
        "        all_preds.extend(predicted.cpu().numpy())\n",
        "        all_labels.extend(labels.cpu().numpy())\n",
        "\n",
        "# Calculate overall test accuracy\n",
        "test_acc = 100.0 * n_correct / n_samples\n",
        "print(f'Accuracy of the network on the {len(test_dataset)} test images: {test_acc:.2f} %')\n",
        "\n",
        "# --- Detailed Evaluation Metrics (using sklearn) ---\n",
        "print(\"\\n--- Detailed Evaluation Metrics ---\")\n",
        "all_preds = np.array(all_preds)\n",
        "all_labels = np.array(all_labels)\n",
        "\n",
        "# Calculate metrics\n",
        "accuracy = accuracy_score(all_labels, all_preds)\n",
        "report = classification_report(all_labels, all_preds, target_names=[str(i) for i in range(NUM_CLASSES)])\n",
        "conf_matrix = confusion_matrix(all_labels, all_preds)\n",
        "\n",
        "print(f\"Overall Test Accuracy (sklearn): {accuracy:.4f}\")\n",
        "print(\"\\nClassification Report:\")\n",
        "print(report)\n",
        "\n",
        "# Visualize Confusion Matrix\n",
        "plt.figure(figsize=(10, 8))\n",
        "sns.heatmap(conf_matrix, annot=True, fmt='d', cmap='Blues', xticklabels=range(NUM_CLASSES), yticklabels=range(NUM_CLASSES))\n",
        "plt.xlabel('Predicted Label')\n",
        "plt.ylabel('True Label')\n",
        "plt.title('Confusion Matrix (Test Set - PyTorch Training)')\n",
        "plt.show()\n",
        "\n",
        "print(\"\\nEvaluation complete.\")"
      ],
      "metadata": {
        "id": "yqiCjZrg-qVE",
        "colab": {
          "base_uri": "https://localhost:8080/",
          "height": 1000
        },
        "outputId": "90872afa-c062-4fd0-ebd1-ea7fe8040594"
      },
      "execution_count": null,
      "outputs": [
        {
          "output_type": "stream",
          "name": "stdout",
          "text": [
            "\n",
            "--- Evaluating Model on Test Set ---\n",
            "Accuracy of the network on the 10000 test images: 97.59 %\n",
            "\n",
            "--- Detailed Evaluation Metrics ---\n",
            "Overall Test Accuracy (sklearn): 0.9759\n",
            "\n",
            "Classification Report:\n",
            "              precision    recall  f1-score   support\n",
            "\n",
            "           0       0.99      0.99      0.99       980\n",
            "           1       0.98      0.99      0.99      1135\n",
            "           2       0.95      0.99      0.97      1032\n",
            "           3       0.99      0.96      0.97      1010\n",
            "           4       0.99      0.96      0.97       982\n",
            "           5       0.97      0.98      0.97       892\n",
            "           6       0.98      0.98      0.98       958\n",
            "           7       0.98      0.96      0.97      1028\n",
            "           8       0.99      0.97      0.98       974\n",
            "           9       0.95      0.98      0.97      1009\n",
            "\n",
            "    accuracy                           0.98     10000\n",
            "   macro avg       0.98      0.98      0.98     10000\n",
            "weighted avg       0.98      0.98      0.98     10000\n",
            "\n"
          ]
        },
        {
          "output_type": "display_data",
          "data": {
            "text/plain": [
              "<Figure size 1000x800 with 2 Axes>"
            ],
            "image/png": "[encoded data removed]"
          },
          "metadata": {}
        },
        {
          "output_type": "stream",
          "name": "stdout",
          "text": [
            "\n",
            "Evaluation complete.\n"
          ]
        }
      ]
    },
    {
      "cell_type": "markdown",
      "source": [
        "# Unlearn Configuration"
      ],
      "metadata": {
        "id": "KpySvR9LKF7z"
      }
    },
    {
      "cell_type": "code",
      "source": [
        "CLASS_TO_UNLEARN = 6\n",
        "NUM_CLASSES = 10\n",
        "OBFUSCATION_METHOD = 'label_randomization' # Options: 'label_randomization', 'add_noise', 'replace_with_noise'\n",
        "NOISE_FACTOR = 0.6 # Used if OBFUSCATION_METHOD is 'add_noise'\n",
        "FINETUNE_EPOCHS = 5\n",
        "FINETUNE_LR = 1e-5 # Use a low learning rate for fine-tuning\n",
        "BATCH_SIZE = 64"
      ],
      "metadata": {
        "id": "zX0EBVNEtzKO"
      },
      "execution_count": null,
      "outputs": []
    },
    {
      "cell_type": "markdown",
      "source": [
        "# Device Configuration"
      ],
      "metadata": {
        "id": "M1CgRMIhKMdo"
      }
    },
    {
      "cell_type": "code",
      "source": [
        "device = torch.device(\"cuda\" if torch.cuda.is_available() else \"cpu\")\n",
        "print(f\"Using device: {device}\")"
      ],
      "metadata": {
        "colab": {
          "base_uri": "https://localhost:8080/"
        },
        "id": "_R4tQvIYzQEs",
        "outputId": "0fbcf708-7f0b-4e97-ceed-f25fe85821a1"
      },
      "execution_count": null,
      "outputs": [
        {
          "output_type": "stream",
          "name": "stdout",
          "text": [
            "Using device: cuda\n"
          ]
        }
      ]
    },
    {
      "cell_type": "markdown",
      "source": [
        "# Load Pre-trained Model"
      ],
      "metadata": {
        "id": "PDL0pgB6KSuZ"
      }
    },
    {
      "cell_type": "code",
      "source": [
        "print(\"Loading pre-trained model (or initializing placeholder)...\")\n",
        "model1 = SimpleMLP(INPUT_SIZE, HIDDEN_SIZE, NUM_CLASSES).to(device)\n",
        "model1.load_state_dict(torch.load('mnist_mlp_pytorch.pth', map_location=device))\n",
        "print(\"Model loaded (or placeholder initialized).\")\n",
        "print(model1)"
      ],
      "metadata": {
        "id": "FIwTmabI_MnT",
        "colab": {
          "base_uri": "https://localhost:8080/"
        },
        "outputId": "e3a0d782-f160-42a5-fcb1-c7b5644e0de5"
      },
      "execution_count": null,
      "outputs": [
        {
          "output_type": "stream",
          "name": "stdout",
          "text": [
            "Loading pre-trained model (or initializing placeholder)...\n",
            "Model loaded (or placeholder initialized).\n",
            "SimpleMLP(\n",
            "  (flatten): Flatten(start_dim=1, end_dim=-1)\n",
            "  (layer1): Linear(in_features=784, out_features=128, bias=True)\n",
            "  (relu): ReLU()\n",
            "  (layer2): Linear(in_features=128, out_features=10, bias=True)\n",
            ")\n"
          ]
        }
      ]
    },
    {
      "cell_type": "markdown",
      "source": [
        "# Data Pre-Processing"
      ],
      "metadata": {
        "id": "ljUfoNypKZre"
      }
    },
    {
      "cell_type": "code",
      "source": [
        "print(\"Loading MNIST data...\")\n",
        "transform = transforms.Compose([\n",
        "    transforms.ToTensor(),\n",
        "    transforms.Normalize((0.1307,), (0.3081,))\n",
        "])\n",
        "\n",
        "# Load original training data\n",
        "train_dataset_full = datasets.MNIST(root='./data', train=True, download=True, transform=transform)\n",
        "test_dataset = datasets.MNIST(root='./data', train=False, download=True, transform=transform)\n",
        "\n",
        "test_loader = DataLoader(test_dataset, batch_size=BATCH_SIZE, shuffle=False)\n",
        "print(f\"Original training samples: {len(train_dataset_full)}\")\n",
        "print(f\"Test samples: {len(test_dataset)}\")"
      ],
      "metadata": {
        "colab": {
          "base_uri": "https://localhost:8080/"
        },
        "id": "-KtwZ1swzayW",
        "outputId": "e012f491-07c9-4585-b49c-80437f3ca98b"
      },
      "execution_count": null,
      "outputs": [
        {
          "output_type": "stream",
          "name": "stdout",
          "text": [
            "Loading MNIST data...\n",
            "Original training samples: 60000\n",
            "Test samples: 10000\n"
          ]
        }
      ]
    },
    {
      "cell_type": "markdown",
      "source": [
        "# Data Obfuscation"
      ],
      "metadata": {
        "id": "ODdjFm3tKg0l"
      }
    },
    {
      "cell_type": "code",
      "source": [
        "print(f\"Identifying and obfuscating data for class {CLASS_TO_UNLEARN}...\")\n",
        "\n",
        "train_data_np = train_dataset_full.data.numpy()\n",
        "train_targets_np = train_dataset_full.targets.numpy()\n",
        "\n",
        "# Create copies to modify\n",
        "train_data_unlearn_np = np.copy(train_data_np)\n",
        "train_targets_unlearn_np = np.copy(train_targets_np)\n",
        "\n",
        "# Find indices of the class to unlearn\n",
        "unlearn_indices = np.where(train_targets_np == CLASS_TO_UNLEARN)[0]\n",
        "print(f\"Found {len(unlearn_indices)} samples of class {CLASS_TO_UNLEARN} in the training set.\")\n",
        "\n",
        "if len(unlearn_indices) == 0:\n",
        "    print(f\"Warning: No samples found for class {CLASS_TO_UNLEARN}. Cannot perform unlearning.\")\n",
        "else:\n",
        "    # Apply obfuscation to the numpy arrays\n",
        "    if OBFUSCATION_METHOD == 'label_randomization':\n",
        "        print(\"Applying label randomization...\")\n",
        "        for idx in unlearn_indices:\n",
        "            original_label = train_targets_unlearn_np[idx]\n",
        "            new_label = np.random.randint(0, NUM_CLASSES)\n",
        "            while new_label == original_label:\n",
        "                new_label = np.random.randint(0, NUM_CLASSES)\n",
        "            train_targets_unlearn_np[idx] = new_label\n",
        "        print(f\"Labels for class {CLASS_TO_UNLEARN} randomized.\")\n",
        "\n",
        "    elif OBFUSCATION_METHOD == 'add_noise':\n",
        "        print(f\"Adding noise (factor: {NOISE_FACTOR})...\")\n",
        "        # Note: Adding noise *before* normalization is often preferred\n",
        "        noise = np.random.normal(loc=0.0, scale=NOISE_FACTOR * 255, size=train_data_unlearn_np[unlearn_indices].shape)\n",
        "        train_data_unlearn_np[unlearn_indices] = np.clip(train_data_unlearn_np[unlearn_indices].astype(np.float32) + noise, 0., 255.).astype(np.uint8)\n",
        "        print(f\"Noise added to images of class {CLASS_TO_UNLEARN}.\")\n",
        "        # Optionally randomize labels too\n",
        "        # for idx in unlearn_indices: train_targets_unlearn_np[idx] = np.random.randint(0, NUM_CLASSES)\n",
        "\n",
        "\n",
        "    elif OBFUSCATION_METHOD == 'replace_with_noise':\n",
        "        print(\"Replacing images with random noise...\")\n",
        "        # Replace images with pure random noise (uint8 range)\n",
        "        train_data_unlearn_np[unlearn_indices] = np.random.randint(0, 256, size=train_data_unlearn_np[unlearn_indices].shape, dtype=np.uint8)\n",
        "        # Assign random labels\n",
        "        for idx in unlearn_indices:\n",
        "             train_targets_unlearn_np[idx] = np.random.randint(0, NUM_CLASSES)\n",
        "        print(f\"Images of class {CLASS_TO_UNLEARN} replaced with noise and labels randomized.\")\n",
        "\n",
        "    else:\n",
        "        print(f\"Error: Unknown OBFUSCATION_METHOD '{OBFUSCATION_METHOD}'\")\n",
        "        exit()"
      ],
      "metadata": {
        "colab": {
          "base_uri": "https://localhost:8080/"
        },
        "id": "TbpFbWEJzwRC",
        "outputId": "51704f46-17f3-4abd-bec7-7b4d73cccb81"
      },
      "execution_count": null,
      "outputs": [
        {
          "output_type": "stream",
          "name": "stdout",
          "text": [
            "Identifying and obfuscating data for class 6...\n",
            "Found 5918 samples of class 6 in the training set.\n",
            "Applying label randomization...\n",
            "Labels for class 6 randomized.\n"
          ]
        }
      ]
    },
    {
      "cell_type": "markdown",
      "source": [
        "# Unlearning Dataset and DataLoader"
      ],
      "metadata": {
        "id": "rMGtQDjfKmUz"
      }
    },
    {
      "cell_type": "code",
      "source": [
        "print(\"Creating unlearning dataset and dataloader...\")\n",
        "\n",
        "train_data_unlearn_tensor = torch.stack([transform(img) for img in train_data_unlearn_np])\n",
        "train_targets_unlearn_tensor = torch.from_numpy(train_targets_unlearn_np).long()\n",
        "\n",
        "# Create a new TensorDataset with the modified data\n",
        "unlearn_dataset = TensorDataset(train_data_unlearn_tensor, train_targets_unlearn_tensor)\n",
        "unlearn_loader = DataLoader(unlearn_dataset, batch_size=BATCH_SIZE, shuffle=True)\n",
        "print(\"Unlearning DataLoader created.\")"
      ],
      "metadata": {
        "colab": {
          "base_uri": "https://localhost:8080/"
        },
        "id": "gFLRBLL1z3dA",
        "outputId": "747a97c2-a7bb-4c19-e070-b914054fac8d"
      },
      "execution_count": null,
      "outputs": [
        {
          "output_type": "stream",
          "name": "stdout",
          "text": [
            "Creating unlearning dataset and dataloader...\n",
            "Unlearning DataLoader created.\n"
          ]
        }
      ]
    },
    {
      "cell_type": "markdown",
      "source": [
        "# Fine-Tune Model"
      ],
      "metadata": {
        "id": "zfJakWjRKsIN"
      }
    },
    {
      "cell_type": "code",
      "source": [
        "print(\"Starting fine-tuning process...\")\n",
        "\n",
        "criterion = nn.CrossEntropyLoss()\n",
        "# Use a low learning rate for the optimizer during fine-tuning\n",
        "optimizer = optim.Adam(model1.parameters(), lr=FINETUNE_LR)\n",
        "\n",
        "model1.train() # Set model to training mode\n",
        "\n",
        "for epoch in range(FINETUNE_EPOCHS):\n",
        "    running_loss = 0.0\n",
        "    correct_predictions = 0\n",
        "    total_samples = 0\n",
        "    for i, (inputs, labels) in enumerate(unlearn_loader):\n",
        "        inputs, labels = inputs.to(device), labels.to(device)\n",
        "\n",
        "        # Zero the parameter gradients\n",
        "        optimizer.zero_grad()\n",
        "\n",
        "        # Forward pass\n",
        "        outputs = model1(inputs)\n",
        "        loss = criterion(outputs, labels)\n",
        "\n",
        "        # Backward pass and optimize\n",
        "        loss.backward()\n",
        "        optimizer.step()\n",
        "\n",
        "        # Print statistics\n",
        "        running_loss += loss.item() * inputs.size(0)\n",
        "        _, predicted = torch.max(outputs.data, 1)\n",
        "        total_samples += labels.size(0)\n",
        "        correct_predictions += (predicted == labels).sum().item()\n",
        "\n",
        "    epoch_loss = running_loss / total_samples\n",
        "    epoch_acc = correct_predictions / total_samples\n",
        "    print(f'Fine-tuning Epoch [{epoch+1}/{FINETUNE_EPOCHS}], Loss: {epoch_loss:.4f}, Accuracy: {epoch_acc:.4f}')\n",
        "\n",
        "print(\"Fine-tuning complete.\")\n",
        "# Save the unlearned model\n",
        "torch.save(model1.state_dict(), 'mnist_mlp_model_unlearned_pytorch.pth')\n",
        "print(\"Unlearned model saved.\")"
      ],
      "metadata": {
        "colab": {
          "base_uri": "https://localhost:8080/"
        },
        "id": "QF_5JZNIz9Nt",
        "outputId": "abc785e0-ff0a-40c3-cf81-710f08b738e2"
      },
      "execution_count": null,
      "outputs": [
        {
          "output_type": "stream",
          "name": "stdout",
          "text": [
            "Starting fine-tuning process...\n",
            "Fine-tuning Epoch [1/5], Loss: 1.0843, Accuracy: 0.8928\n",
            "Fine-tuning Epoch [2/5], Loss: 0.5633, Accuracy: 0.8978\n",
            "Fine-tuning Epoch [3/5], Loss: 0.4815, Accuracy: 0.9003\n",
            "Fine-tuning Epoch [4/5], Loss: 0.4426, Accuracy: 0.9009\n",
            "Fine-tuning Epoch [5/5], Loss: 0.4175, Accuracy: 0.9014\n",
            "Fine-tuning complete.\n",
            "Unlearned model saved.\n"
          ]
        }
      ]
    },
    {
      "cell_type": "markdown",
      "source": [
        "# Model Evaluation (Unlearned Model)"
      ],
      "metadata": {
        "id": "7pbVy21eK5GY"
      }
    },
    {
      "cell_type": "code",
      "source": [
        "print(\"\\n--- Evaluating Unlearned Model ---\")\n",
        "\n",
        "model1.eval() # Set model to evaluation mode\n",
        "all_preds = []\n",
        "all_labels = []\n",
        "with torch.no_grad(): # Disable gradient calculation for evaluation\n",
        "    for inputs, labels in test_loader:\n",
        "        inputs, labels = inputs.to(device), labels.to(device)\n",
        "        outputs = model1(inputs)\n",
        "        _, predicted = torch.max(outputs.data, 1)\n",
        "        all_preds.extend(predicted.cpu().numpy()) # Move predictions to CPU and store\n",
        "        all_labels.extend(labels.cpu().numpy())   # Move labels to CPU and store\n",
        "\n",
        "# Convert lists to numpy arrays\n",
        "all_preds = np.array(all_preds)\n",
        "all_labels = np.array(all_labels)\n",
        "\n",
        "# Calculate overall metrics using sklearn\n",
        "accuracy = accuracy_score(all_labels, all_preds)\n",
        "report = classification_report(all_labels, all_preds, target_names=[str(i) for i in range(NUM_CLASSES)])\n",
        "conf_matrix = confusion_matrix(all_labels, all_preds)\n",
        "\n",
        "print(f\"Overall Test Accuracy: {accuracy:.4f}\")\n",
        "print(\"\\nClassification Report:\")\n",
        "print(report)\n",
        "\n",
        "# Analyze performance specifically for the unlearned class\n",
        "class_7_indices_test = np.where(all_labels == CLASS_TO_UNLEARN)[0]\n",
        "if len(class_7_indices_test) > 0:\n",
        "    y_test_class_7 = all_labels[class_7_indices_test]\n",
        "    y_pred_class_7 = all_preds[class_7_indices_test]\n",
        "    accuracy_class_7 = accuracy_score(y_test_class_7, y_pred_class_7)\n",
        "    print(f\"\\nAccuracy specifically for class {CLASS_TO_UNLEARN}: {accuracy_class_7:.4f}\")\n",
        "    print(f\"(Expected to be low if unlearning was successful)\")\n",
        "else:\n",
        "    print(f\"\\nNo samples of class {CLASS_TO_UNLEARN} found in the test set for specific evaluation.\")\n",
        "\n",
        "\n",
        "# Visualize Confusion Matrix\n",
        "plt.figure(figsize=(10, 8))\n",
        "sns.heatmap(conf_matrix, annot=True, fmt='d', cmap='Blues', xticklabels=range(NUM_CLASSES), yticklabels=range(NUM_CLASSES))\n",
        "plt.xlabel('Predicted Label')\n",
        "plt.ylabel('True Label')\n",
        "plt.title('Confusion Matrix (After Unlearning - PyTorch)')\n",
        "plt.show()\n",
        "\n",
        "print(\"\\nEvaluation complete. Check the classification report and confusion matrix.\")\n",
        "print(f\"Pay attention to the row/column corresponding to class {CLASS_TO_UNLEARN}.\")"
      ],
      "metadata": {
        "colab": {
          "base_uri": "https://localhost:8080/",
          "height": 1000
        },
        "id": "w-5VHMXQ0D6-",
        "outputId": "19b9debc-75fd-4d08-93c7-33d13a76e5f8"
      },
      "execution_count": null,
      "outputs": [
        {
          "output_type": "stream",
          "name": "stdout",
          "text": [
            "\n",
            "--- Evaluating Unlearned Model ---\n",
            "Overall Test Accuracy: 0.8855\n",
            "\n",
            "Classification Report:\n",
            "              precision    recall  f1-score   support\n",
            "\n",
            "           0       0.89      0.99      0.93       980\n",
            "           1       0.91      0.99      0.95      1135\n",
            "           2       0.88      0.98      0.92      1032\n",
            "           3       0.88      0.98      0.93      1010\n",
            "           4       0.89      0.97      0.93       982\n",
            "           5       0.89      0.97      0.93       892\n",
            "           6       1.00      0.02      0.03       958\n",
            "           7       0.91      0.98      0.94      1028\n",
            "           8       0.87      0.97      0.92       974\n",
            "           9       0.86      0.98      0.92      1009\n",
            "\n",
            "    accuracy                           0.89     10000\n",
            "   macro avg       0.90      0.88      0.84     10000\n",
            "weighted avg       0.90      0.89      0.84     10000\n",
            "\n",
            "\n",
            "Accuracy specifically for class 6: 0.0157\n",
            "(Expected to be low if unlearning was successful)\n"
          ]
        },
        {
          "output_type": "display_data",
          "data": {
            "text/plain": [
              "<Figure size 1000x800 with 2 Axes>"
            ],
            "image/png": "[encoded data removed]"
          },
          "metadata": {}
        },
        {
          "output_type": "stream",
          "name": "stdout",
          "text": [
            "\n",
            "Evaluation complete. Check the classification report and confusion matrix.\n",
            "Pay attention to the row/column corresponding to class 6.\n"
          ]
        }
      ]
    }
  ]
}