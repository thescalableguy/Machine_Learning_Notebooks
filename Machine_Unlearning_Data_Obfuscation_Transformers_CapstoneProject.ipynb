{
  "nbformat": 4,
  "nbformat_minor": 0,
  "metadata": {
    "colab": {
      "provenance": [],
      "gpuType": "T4",
      "authorship_tag": "ABX9TyOmH23A22U3tNYx1OaC5A0n",
      "include_colab_link": true
    },
    "kernelspec": {
      "name": "python3",
      "display_name": "Python 3"
    },
    "language_info": {
      "name": "python"
    },
    "accelerator": "GPU"
  },
  "cells": [
    {
      "cell_type": "markdown",
      "metadata": {
        "id": "view-in-github",
        "colab_type": "text"
      },
      "source": [
        "<a href=\"https://colab.research.google.com/github/thescalableguy/Machine_Learning_Notebooks/blob/main/Machine_Unlearning_Data_Obfuscation_Transformers_CapstoneProject.ipynb\" target=\"_parent\"><img src=\"https://colab.research.google.com/assets/colab-badge.svg\" alt=\"Open In Colab\"/></a>"
      ]
    },
    {
      "cell_type": "markdown",
      "source": [
        "# Machine Unlearning with Data Obfuscation\n",
        "\n",
        "```\n",
        "Problem Statement: Transformer-based model (e.g., BERT) for NLP tasks like classification or question answering\n",
        "```\n",
        "\n",
        "**Model Selection:**\n",
        "*   Why Transformer: State-of-the-art for text understanding.\n",
        "*   Pretrained model: Use Hugging Face bert-base-uncased for transfer learning\n",
        "*   Use case: Sentiment classification, topic classification, etc.\n",
        "\n",
        "\n"
      ],
      "metadata": {
        "id": "OS6dQOoVOpBv"
      }
    },
    {
      "cell_type": "code",
      "execution_count": 6,
      "metadata": {
        "id": "8od4qPj5s_wD"
      },
      "outputs": [],
      "source": [
        "import torch\n",
        "import torch.nn as nn\n",
        "import torch.optim as optim\n",
        "from torchvision import datasets, transforms\n",
        "from torch.utils.data import DataLoader, TensorDataset\n",
        "import numpy as np\n",
        "from sklearn.metrics import classification_report, confusion_matrix, accuracy_score\n",
        "import matplotlib.pyplot as plt\n",
        "import seaborn as sns\n",
        "import time\n",
        "import copy\n",
        "import os\n",
        "import timm\n",
        "from huggingface_hub import notebook_login"
      ]
    },
    {
      "cell_type": "code",
      "source": [
        "!pip install nbstripout"
      ],
      "metadata": {
        "colab": {
          "base_uri": "https://localhost:8080/"
        },
        "collapsed": true,
        "id": "kgArdfmNqBDw",
        "outputId": "9db70927-626d-43b7-99eb-3396e3bbf92f"
      },
      "execution_count": 4,
      "outputs": [
        {
          "output_type": "stream",
          "name": "stdout",
          "text": [
            "Requirement already satisfied: nbstripout in /usr/local/lib/python3.11/dist-packages (0.8.1)\n",
            "Requirement already satisfied: nbformat in /usr/local/lib/python3.11/dist-packages (from nbstripout) (5.10.4)\n",
            "Requirement already satisfied: fastjsonschema>=2.15 in /usr/local/lib/python3.11/dist-packages (from nbformat->nbstripout) (2.21.1)\n",
            "Requirement already satisfied: jsonschema>=2.6 in /usr/local/lib/python3.11/dist-packages (from nbformat->nbstripout) (4.23.0)\n",
            "Requirement already satisfied: jupyter-core!=5.0.*,>=4.12 in /usr/local/lib/python3.11/dist-packages (from nbformat->nbstripout) (5.7.2)\n",
            "Requirement already satisfied: traitlets>=5.1 in /usr/local/lib/python3.11/dist-packages (from nbformat->nbstripout) (5.7.1)\n",
            "Requirement already satisfied: attrs>=22.2.0 in /usr/local/lib/python3.11/dist-packages (from jsonschema>=2.6->nbformat->nbstripout) (25.3.0)\n",
            "Requirement already satisfied: jsonschema-specifications>=2023.03.6 in /usr/local/lib/python3.11/dist-packages (from jsonschema>=2.6->nbformat->nbstripout) (2024.10.1)\n",
            "Requirement already satisfied: referencing>=0.28.4 in /usr/local/lib/python3.11/dist-packages (from jsonschema>=2.6->nbformat->nbstripout) (0.36.2)\n",
            "Requirement already satisfied: rpds-py>=0.7.1 in /usr/local/lib/python3.11/dist-packages (from jsonschema>=2.6->nbformat->nbstripout) (0.24.0)\n",
            "Requirement already satisfied: platformdirs>=2.5 in /usr/local/lib/python3.11/dist-packages (from jupyter-core!=5.0.*,>=4.12->nbformat->nbstripout) (4.3.7)\n",
            "Requirement already satisfied: typing-extensions>=4.4.0 in /usr/local/lib/python3.11/dist-packages (from referencing>=0.28.4->jsonschema>=2.6->nbformat->nbstripout) (4.13.2)\n"
          ]
        }
      ]
    },
    {
      "cell_type": "code",
      "source": [
        "!nbstripout --install"
      ],
      "metadata": {
        "colab": {
          "base_uri": "https://localhost:8080/"
        },
        "collapsed": true,
        "id": "0G2rM3z8qVdw",
        "outputId": "cb264c2b-11a8-4803-b227-52d3f4bd3df7"
      },
      "execution_count": 8,
      "outputs": [
        {
          "output_type": "stream",
          "name": "stdout",
          "text": [
            "fatal: --local can only be used inside a git repository\n",
            "Installation failed: not a git repository!\n"
          ]
        }
      ]
    },
    {
      "cell_type": "markdown",
      "source": [
        "# Device Configuration"
      ],
      "metadata": {
        "id": "dKACS0kZPCRs"
      }
    },
    {
      "cell_type": "code",
      "source": [
        "device = torch.device(\"cuda\" if torch.cuda.is_available() else \"cpu\")\n",
        "print(f\"Using device: {device}\")"
      ],
      "metadata": {
        "id": "bkInRhEq-A6w",
        "colab": {
          "base_uri": "https://localhost:8080/"
        },
        "outputId": "352ba504-1e95-47e2-b09e-fd3026a6ef4b"
      },
      "execution_count": null,
      "outputs": [
        {
          "output_type": "stream",
          "name": "stdout",
          "text": [
            "Using device: cpu\n"
          ]
        }
      ]
    },
    {
      "cell_type": "markdown",
      "source": [
        "# Configuration"
      ],
      "metadata": {
        "id": "5tQyDjTnO9s6"
      }
    },
    {
      "cell_type": "code",
      "source": [
        "NUM_CLASSES = 10\n",
        "BATCH_SIZE = 64\n",
        "NUM_EPOCHS = 10\n",
        "LEARNING_RATE = 0.001"
      ],
      "metadata": {
        "id": "oRh3A8Ei91JW"
      },
      "execution_count": null,
      "outputs": []
    },
    {
      "cell_type": "markdown",
      "source": [
        "# Adding Hugging Face Token\n",
        "\n",
        "Add your hugging face token here"
      ],
      "metadata": {
        "id": "tKSOePlxPHb2"
      }
    },
    {
      "cell_type": "markdown",
      "source": [
        "# Model Architecture\n",
        "\n",
        "```\n",
        "[CLS] → BERT Embedding → Transformer Blocks → [CLS] token → Dense(1 or num_classes)\n",
        "\n",
        "```\n",
        "*   Pretrained BERT → Classification head"
      ],
      "metadata": {
        "id": "15lckgi3PK-5"
      }
    },
    {
      "cell_type": "code",
      "source": [
        "model = timm.create_model('vit_base_patch16_224', pretrained=True)\n",
        "model.head = nn.Linear(model.head.in_features, NUM_CLASSES)"
      ],
      "metadata": {
        "id": "2OYMQg0i-Gaa"
      },
      "execution_count": null,
      "outputs": []
    },
    {
      "cell_type": "code",
      "source": [
        "# --- Instantiate the Model ---\n",
        "model = model.to(device)\n",
        "print(\"Model Architecture:\")\n",
        "print(model)"
      ],
      "metadata": {
        "id": "v3EQyG3N-K3n",
        "colab": {
          "base_uri": "https://localhost:8080/"
        },
        "outputId": "ce687348-bace-4f90-9126-1e68e95e66cc"
      },
      "execution_count": null,
      "outputs": [
        {
          "output_type": "stream",
          "name": "stdout",
          "text": [
            "Model Architecture:\n",
            "VisionTransformer(\n",
            "  (patch_embed): PatchEmbed(\n",
            "    (proj): Conv2d(3, 768, kernel_size=(16, 16), stride=(16, 16))\n",
            "    (norm): Identity()\n",
            "  )\n",
            "  (pos_drop): Dropout(p=0.0, inplace=False)\n",
            "  (patch_drop): Identity()\n",
            "  (norm_pre): Identity()\n",
            "  (blocks): Sequential(\n",
            "    (0): Block(\n",
            "      (norm1): LayerNorm((768,), eps=1e-06, elementwise_affine=True)\n",
            "      (attn): Attention(\n",
            "        (qkv): Linear(in_features=768, out_features=2304, bias=True)\n",
            "        (q_norm): Identity()\n",
            "        (k_norm): Identity()\n",
            "        (attn_drop): Dropout(p=0.0, inplace=False)\n",
            "        (proj): Linear(in_features=768, out_features=768, bias=True)\n",
            "        (proj_drop): Dropout(p=0.0, inplace=False)\n",
            "      )\n",
            "      (ls1): Identity()\n",
            "      (drop_path1): Identity()\n",
            "      (norm2): LayerNorm((768,), eps=1e-06, elementwise_affine=True)\n",
            "      (mlp): Mlp(\n",
            "        (fc1): Linear(in_features=768, out_features=3072, bias=True)\n",
            "        (act): GELU(approximate='none')\n",
            "        (drop1): Dropout(p=0.0, inplace=False)\n",
            "        (norm): Identity()\n",
            "        (fc2): Linear(in_features=3072, out_features=768, bias=True)\n",
            "        (drop2): Dropout(p=0.0, inplace=False)\n",
            "      )\n",
            "      (ls2): Identity()\n",
            "      (drop_path2): Identity()\n",
            "    )\n",
            "    (1): Block(\n",
            "      (norm1): LayerNorm((768,), eps=1e-06, elementwise_affine=True)\n",
            "      (attn): Attention(\n",
            "        (qkv): Linear(in_features=768, out_features=2304, bias=True)\n",
            "        (q_norm): Identity()\n",
            "        (k_norm): Identity()\n",
            "        (attn_drop): Dropout(p=0.0, inplace=False)\n",
            "        (proj): Linear(in_features=768, out_features=768, bias=True)\n",
            "        (proj_drop): Dropout(p=0.0, inplace=False)\n",
            "      )\n",
            "      (ls1): Identity()\n",
            "      (drop_path1): Identity()\n",
            "      (norm2): LayerNorm((768,), eps=1e-06, elementwise_affine=True)\n",
            "      (mlp): Mlp(\n",
            "        (fc1): Linear(in_features=768, out_features=3072, bias=True)\n",
            "        (act): GELU(approximate='none')\n",
            "        (drop1): Dropout(p=0.0, inplace=False)\n",
            "        (norm): Identity()\n",
            "        (fc2): Linear(in_features=3072, out_features=768, bias=True)\n",
            "        (drop2): Dropout(p=0.0, inplace=False)\n",
            "      )\n",
            "      (ls2): Identity()\n",
            "      (drop_path2): Identity()\n",
            "    )\n",
            "    (2): Block(\n",
            "      (norm1): LayerNorm((768,), eps=1e-06, elementwise_affine=True)\n",
            "      (attn): Attention(\n",
            "        (qkv): Linear(in_features=768, out_features=2304, bias=True)\n",
            "        (q_norm): Identity()\n",
            "        (k_norm): Identity()\n",
            "        (attn_drop): Dropout(p=0.0, inplace=False)\n",
            "        (proj): Linear(in_features=768, out_features=768, bias=True)\n",
            "        (proj_drop): Dropout(p=0.0, inplace=False)\n",
            "      )\n",
            "      (ls1): Identity()\n",
            "      (drop_path1): Identity()\n",
            "      (norm2): LayerNorm((768,), eps=1e-06, elementwise_affine=True)\n",
            "      (mlp): Mlp(\n",
            "        (fc1): Linear(in_features=768, out_features=3072, bias=True)\n",
            "        (act): GELU(approximate='none')\n",
            "        (drop1): Dropout(p=0.0, inplace=False)\n",
            "        (norm): Identity()\n",
            "        (fc2): Linear(in_features=3072, out_features=768, bias=True)\n",
            "        (drop2): Dropout(p=0.0, inplace=False)\n",
            "      )\n",
            "      (ls2): Identity()\n",
            "      (drop_path2): Identity()\n",
            "    )\n",
            "    (3): Block(\n",
            "      (norm1): LayerNorm((768,), eps=1e-06, elementwise_affine=True)\n",
            "      (attn): Attention(\n",
            "        (qkv): Linear(in_features=768, out_features=2304, bias=True)\n",
            "        (q_norm): Identity()\n",
            "        (k_norm): Identity()\n",
            "        (attn_drop): Dropout(p=0.0, inplace=False)\n",
            "        (proj): Linear(in_features=768, out_features=768, bias=True)\n",
            "        (proj_drop): Dropout(p=0.0, inplace=False)\n",
            "      )\n",
            "      (ls1): Identity()\n",
            "      (drop_path1): Identity()\n",
            "      (norm2): LayerNorm((768,), eps=1e-06, elementwise_affine=True)\n",
            "      (mlp): Mlp(\n",
            "        (fc1): Linear(in_features=768, out_features=3072, bias=True)\n",
            "        (act): GELU(approximate='none')\n",
            "        (drop1): Dropout(p=0.0, inplace=False)\n",
            "        (norm): Identity()\n",
            "        (fc2): Linear(in_features=3072, out_features=768, bias=True)\n",
            "        (drop2): Dropout(p=0.0, inplace=False)\n",
            "      )\n",
            "      (ls2): Identity()\n",
            "      (drop_path2): Identity()\n",
            "    )\n",
            "    (4): Block(\n",
            "      (norm1): LayerNorm((768,), eps=1e-06, elementwise_affine=True)\n",
            "      (attn): Attention(\n",
            "        (qkv): Linear(in_features=768, out_features=2304, bias=True)\n",
            "        (q_norm): Identity()\n",
            "        (k_norm): Identity()\n",
            "        (attn_drop): Dropout(p=0.0, inplace=False)\n",
            "        (proj): Linear(in_features=768, out_features=768, bias=True)\n",
            "        (proj_drop): Dropout(p=0.0, inplace=False)\n",
            "      )\n",
            "      (ls1): Identity()\n",
            "      (drop_path1): Identity()\n",
            "      (norm2): LayerNorm((768,), eps=1e-06, elementwise_affine=True)\n",
            "      (mlp): Mlp(\n",
            "        (fc1): Linear(in_features=768, out_features=3072, bias=True)\n",
            "        (act): GELU(approximate='none')\n",
            "        (drop1): Dropout(p=0.0, inplace=False)\n",
            "        (norm): Identity()\n",
            "        (fc2): Linear(in_features=3072, out_features=768, bias=True)\n",
            "        (drop2): Dropout(p=0.0, inplace=False)\n",
            "      )\n",
            "      (ls2): Identity()\n",
            "      (drop_path2): Identity()\n",
            "    )\n",
            "    (5): Block(\n",
            "      (norm1): LayerNorm((768,), eps=1e-06, elementwise_affine=True)\n",
            "      (attn): Attention(\n",
            "        (qkv): Linear(in_features=768, out_features=2304, bias=True)\n",
            "        (q_norm): Identity()\n",
            "        (k_norm): Identity()\n",
            "        (attn_drop): Dropout(p=0.0, inplace=False)\n",
            "        (proj): Linear(in_features=768, out_features=768, bias=True)\n",
            "        (proj_drop): Dropout(p=0.0, inplace=False)\n",
            "      )\n",
            "      (ls1): Identity()\n",
            "      (drop_path1): Identity()\n",
            "      (norm2): LayerNorm((768,), eps=1e-06, elementwise_affine=True)\n",
            "      (mlp): Mlp(\n",
            "        (fc1): Linear(in_features=768, out_features=3072, bias=True)\n",
            "        (act): GELU(approximate='none')\n",
            "        (drop1): Dropout(p=0.0, inplace=False)\n",
            "        (norm): Identity()\n",
            "        (fc2): Linear(in_features=3072, out_features=768, bias=True)\n",
            "        (drop2): Dropout(p=0.0, inplace=False)\n",
            "      )\n",
            "      (ls2): Identity()\n",
            "      (drop_path2): Identity()\n",
            "    )\n",
            "    (6): Block(\n",
            "      (norm1): LayerNorm((768,), eps=1e-06, elementwise_affine=True)\n",
            "      (attn): Attention(\n",
            "        (qkv): Linear(in_features=768, out_features=2304, bias=True)\n",
            "        (q_norm): Identity()\n",
            "        (k_norm): Identity()\n",
            "        (attn_drop): Dropout(p=0.0, inplace=False)\n",
            "        (proj): Linear(in_features=768, out_features=768, bias=True)\n",
            "        (proj_drop): Dropout(p=0.0, inplace=False)\n",
            "      )\n",
            "      (ls1): Identity()\n",
            "      (drop_path1): Identity()\n",
            "      (norm2): LayerNorm((768,), eps=1e-06, elementwise_affine=True)\n",
            "      (mlp): Mlp(\n",
            "        (fc1): Linear(in_features=768, out_features=3072, bias=True)\n",
            "        (act): GELU(approximate='none')\n",
            "        (drop1): Dropout(p=0.0, inplace=False)\n",
            "        (norm): Identity()\n",
            "        (fc2): Linear(in_features=3072, out_features=768, bias=True)\n",
            "        (drop2): Dropout(p=0.0, inplace=False)\n",
            "      )\n",
            "      (ls2): Identity()\n",
            "      (drop_path2): Identity()\n",
            "    )\n",
            "    (7): Block(\n",
            "      (norm1): LayerNorm((768,), eps=1e-06, elementwise_affine=True)\n",
            "      (attn): Attention(\n",
            "        (qkv): Linear(in_features=768, out_features=2304, bias=True)\n",
            "        (q_norm): Identity()\n",
            "        (k_norm): Identity()\n",
            "        (attn_drop): Dropout(p=0.0, inplace=False)\n",
            "        (proj): Linear(in_features=768, out_features=768, bias=True)\n",
            "        (proj_drop): Dropout(p=0.0, inplace=False)\n",
            "      )\n",
            "      (ls1): Identity()\n",
            "      (drop_path1): Identity()\n",
            "      (norm2): LayerNorm((768,), eps=1e-06, elementwise_affine=True)\n",
            "      (mlp): Mlp(\n",
            "        (fc1): Linear(in_features=768, out_features=3072, bias=True)\n",
            "        (act): GELU(approximate='none')\n",
            "        (drop1): Dropout(p=0.0, inplace=False)\n",
            "        (norm): Identity()\n",
            "        (fc2): Linear(in_features=3072, out_features=768, bias=True)\n",
            "        (drop2): Dropout(p=0.0, inplace=False)\n",
            "      )\n",
            "      (ls2): Identity()\n",
            "      (drop_path2): Identity()\n",
            "    )\n",
            "    (8): Block(\n",
            "      (norm1): LayerNorm((768,), eps=1e-06, elementwise_affine=True)\n",
            "      (attn): Attention(\n",
            "        (qkv): Linear(in_features=768, out_features=2304, bias=True)\n",
            "        (q_norm): Identity()\n",
            "        (k_norm): Identity()\n",
            "        (attn_drop): Dropout(p=0.0, inplace=False)\n",
            "        (proj): Linear(in_features=768, out_features=768, bias=True)\n",
            "        (proj_drop): Dropout(p=0.0, inplace=False)\n",
            "      )\n",
            "      (ls1): Identity()\n",
            "      (drop_path1): Identity()\n",
            "      (norm2): LayerNorm((768,), eps=1e-06, elementwise_affine=True)\n",
            "      (mlp): Mlp(\n",
            "        (fc1): Linear(in_features=768, out_features=3072, bias=True)\n",
            "        (act): GELU(approximate='none')\n",
            "        (drop1): Dropout(p=0.0, inplace=False)\n",
            "        (norm): Identity()\n",
            "        (fc2): Linear(in_features=3072, out_features=768, bias=True)\n",
            "        (drop2): Dropout(p=0.0, inplace=False)\n",
            "      )\n",
            "      (ls2): Identity()\n",
            "      (drop_path2): Identity()\n",
            "    )\n",
            "    (9): Block(\n",
            "      (norm1): LayerNorm((768,), eps=1e-06, elementwise_affine=True)\n",
            "      (attn): Attention(\n",
            "        (qkv): Linear(in_features=768, out_features=2304, bias=True)\n",
            "        (q_norm): Identity()\n",
            "        (k_norm): Identity()\n",
            "        (attn_drop): Dropout(p=0.0, inplace=False)\n",
            "        (proj): Linear(in_features=768, out_features=768, bias=True)\n",
            "        (proj_drop): Dropout(p=0.0, inplace=False)\n",
            "      )\n",
            "      (ls1): Identity()\n",
            "      (drop_path1): Identity()\n",
            "      (norm2): LayerNorm((768,), eps=1e-06, elementwise_affine=True)\n",
            "      (mlp): Mlp(\n",
            "        (fc1): Linear(in_features=768, out_features=3072, bias=True)\n",
            "        (act): GELU(approximate='none')\n",
            "        (drop1): Dropout(p=0.0, inplace=False)\n",
            "        (norm): Identity()\n",
            "        (fc2): Linear(in_features=3072, out_features=768, bias=True)\n",
            "        (drop2): Dropout(p=0.0, inplace=False)\n",
            "      )\n",
            "      (ls2): Identity()\n",
            "      (drop_path2): Identity()\n",
            "    )\n",
            "    (10): Block(\n",
            "      (norm1): LayerNorm((768,), eps=1e-06, elementwise_affine=True)\n",
            "      (attn): Attention(\n",
            "        (qkv): Linear(in_features=768, out_features=2304, bias=True)\n",
            "        (q_norm): Identity()\n",
            "        (k_norm): Identity()\n",
            "        (attn_drop): Dropout(p=0.0, inplace=False)\n",
            "        (proj): Linear(in_features=768, out_features=768, bias=True)\n",
            "        (proj_drop): Dropout(p=0.0, inplace=False)\n",
            "      )\n",
            "      (ls1): Identity()\n",
            "      (drop_path1): Identity()\n",
            "      (norm2): LayerNorm((768,), eps=1e-06, elementwise_affine=True)\n",
            "      (mlp): Mlp(\n",
            "        (fc1): Linear(in_features=768, out_features=3072, bias=True)\n",
            "        (act): GELU(approximate='none')\n",
            "        (drop1): Dropout(p=0.0, inplace=False)\n",
            "        (norm): Identity()\n",
            "        (fc2): Linear(in_features=3072, out_features=768, bias=True)\n",
            "        (drop2): Dropout(p=0.0, inplace=False)\n",
            "      )\n",
            "      (ls2): Identity()\n",
            "      (drop_path2): Identity()\n",
            "    )\n",
            "    (11): Block(\n",
            "      (norm1): LayerNorm((768,), eps=1e-06, elementwise_affine=True)\n",
            "      (attn): Attention(\n",
            "        (qkv): Linear(in_features=768, out_features=2304, bias=True)\n",
            "        (q_norm): Identity()\n",
            "        (k_norm): Identity()\n",
            "        (attn_drop): Dropout(p=0.0, inplace=False)\n",
            "        (proj): Linear(in_features=768, out_features=768, bias=True)\n",
            "        (proj_drop): Dropout(p=0.0, inplace=False)\n",
            "      )\n",
            "      (ls1): Identity()\n",
            "      (drop_path1): Identity()\n",
            "      (norm2): LayerNorm((768,), eps=1e-06, elementwise_affine=True)\n",
            "      (mlp): Mlp(\n",
            "        (fc1): Linear(in_features=768, out_features=3072, bias=True)\n",
            "        (act): GELU(approximate='none')\n",
            "        (drop1): Dropout(p=0.0, inplace=False)\n",
            "        (norm): Identity()\n",
            "        (fc2): Linear(in_features=3072, out_features=768, bias=True)\n",
            "        (drop2): Dropout(p=0.0, inplace=False)\n",
            "      )\n",
            "      (ls2): Identity()\n",
            "      (drop_path2): Identity()\n",
            "    )\n",
            "  )\n",
            "  (norm): LayerNorm((768,), eps=1e-06, elementwise_affine=True)\n",
            "  (fc_norm): Identity()\n",
            "  (head_drop): Dropout(p=0.0, inplace=False)\n",
            "  (head): Linear(in_features=768, out_features=10, bias=True)\n",
            ")\n"
          ]
        }
      ]
    },
    {
      "cell_type": "markdown",
      "source": [
        "# Data Pre-Processing\n",
        "\n",
        "\n",
        "\n",
        "*   Tokenization using BERT tokenizer\n",
        "*   Convert text to input IDs, attention masks\n",
        "*   Label encoding (e.g., 0 = negative, 1 = positive)\n",
        "*   Resizing Images to be understood by transformer"
      ],
      "metadata": {
        "id": "r9Rl-On0PZ6c"
      }
    },
    {
      "cell_type": "code",
      "source": [
        "print(\"\\nLoading CIFAR-10 data...\")\n",
        "transform = transforms.Compose([\n",
        "    transforms.Resize((224, 224)),\n",
        "    transforms.ToTensor(),\n",
        "    transforms.Normalize((0.5, 0.5, 0.5), (0.5, 0.5, 0.5))\n",
        "])"
      ],
      "metadata": {
        "id": "Dc5uCc---Osb",
        "colab": {
          "base_uri": "https://localhost:8080/"
        },
        "outputId": "cf93a053-5fdc-465a-8a5b-30eafa90ede3"
      },
      "execution_count": null,
      "outputs": [
        {
          "output_type": "stream",
          "name": "stdout",
          "text": [
            "\n",
            "Loading CIFAR-10 data...\n"
          ]
        }
      ]
    },
    {
      "cell_type": "code",
      "source": [
        "# Download and load the training data\n",
        "train_dataset = datasets.CIFAR10(root='./data', train=True, download=True, transform=transform)\n",
        "# Download and load the test data\n",
        "test_dataset = datasets.CIFAR10(root='./data', train=False, download=True, transform=transform)\n",
        "\n",
        "# Create DataLoaders\n",
        "train_loader = DataLoader(dataset=train_dataset, batch_size=BATCH_SIZE, shuffle=True)\n",
        "test_loader = DataLoader(dataset=test_dataset, batch_size=BATCH_SIZE, shuffle=False) # No need to shuffle test data\n",
        "\n",
        "print(f\"Training samples: {len(train_dataset)}\")\n",
        "print(f\"Test samples: {len(test_dataset)}\")\n",
        "print(f\"Number of training batches: {len(train_loader)}\")\n",
        "print(f\"Number of test batches: {len(test_loader)}\")"
      ],
      "metadata": {
        "id": "Voe8mxxF-Ttv",
        "colab": {
          "base_uri": "https://localhost:8080/"
        },
        "outputId": "bdef5748-80c4-4464-ed55-3ecb92f3e219"
      },
      "execution_count": null,
      "outputs": [
        {
          "output_type": "stream",
          "name": "stderr",
          "text": [
            "100%|██████████| 170M/170M [00:04<00:00, 42.0MB/s]\n"
          ]
        },
        {
          "output_type": "stream",
          "name": "stdout",
          "text": [
            "Training samples: 50000\n",
            "Test samples: 10000\n",
            "Number of training batches: 782\n",
            "Number of test batches: 157\n"
          ]
        }
      ]
    },
    {
      "cell_type": "markdown",
      "source": [
        "# Loss Function and Optimizer"
      ],
      "metadata": {
        "id": "IA4hKNMRP3v2"
      }
    },
    {
      "cell_type": "code",
      "source": [
        "criterion = nn.CrossEntropyLoss()\n",
        "optimizer = optim.Adam(model.parameters(), lr=LEARNING_RATE) # Adam optimizer\n",
        "\n",
        "print(f\"\\nOptimizer: Adam, Learning Rate: {LEARNING_RATE}\")\n",
        "print(f\"Loss Function: CrossEntropyLoss\")"
      ],
      "metadata": {
        "id": "dByQSEqE-YPz",
        "colab": {
          "base_uri": "https://localhost:8080/"
        },
        "outputId": "c15dc64f-70cf-4d92-b332-a202656e93f1"
      },
      "execution_count": null,
      "outputs": [
        {
          "output_type": "stream",
          "name": "stdout",
          "text": [
            "\n",
            "Optimizer: Adam, Learning Rate: 0.001\n",
            "Loss Function: CrossEntropyLoss\n"
          ]
        }
      ]
    },
    {
      "cell_type": "markdown",
      "source": [
        "# Model Training"
      ],
      "metadata": {
        "id": "cuXtD7utP8dy"
      }
    },
    {
      "cell_type": "code",
      "source": [
        "print(f\"\\nStarting Training for {NUM_EPOCHS} epochs...\")\n",
        "start_time = time.time()\n",
        "\n",
        "for epoch in range(NUM_EPOCHS):\n",
        "    model.train()  # Set the model to training mode\n",
        "    running_loss = 0.0\n",
        "    correct_predictions = 0\n",
        "    total_samples = 0\n",
        "\n",
        "    for i, (images, labels) in enumerate(train_loader):\n",
        "        images = images.to(device)\n",
        "        labels = labels.to(device)\n",
        "\n",
        "        # --- Forward Pass ---\n",
        "        outputs = model(images)\n",
        "        loss = criterion(outputs, labels)\n",
        "\n",
        "        # --- Backward Pass and Optimize ---\n",
        "        optimizer.zero_grad()\n",
        "        loss.backward()\n",
        "        optimizer.step()\n",
        "\n",
        "        # --- Track Statistics ---\n",
        "        running_loss += loss.item() * images.size(0)\n",
        "        _, predicted = torch.max(outputs.data, 1)\n",
        "        total_samples += labels.size(0)\n",
        "        correct_predictions += (predicted == labels).sum().item()\n",
        "\n",
        "    # Calculate epoch statistics\n",
        "    epoch_loss = running_loss / total_samples\n",
        "    epoch_acc = correct_predictions / total_samples\n",
        "    print(f'--- Epoch [{epoch+1}/{NUM_EPOCHS}] Completed ---')\n",
        "    print(f'Training Loss: {epoch_loss:.4f}, Training Accuracy: {epoch_acc:.4f}')\n",
        "\n",
        "\n",
        "training_time = time.time() - start_time\n",
        "print(f\"\\nTraining finished in {training_time:.2f} seconds.\")\n",
        "\n",
        "# Save the trained model\n",
        "torch.save(model.state_dict(), 'timm_cifar10_pytorch.pth')\n",
        "print(\"Trained model state dictionary saved to timm_cifar10_pytorch.pth\")"
      ],
      "metadata": {
        "id": "GmSXZaBd-iKJ",
        "colab": {
          "base_uri": "https://localhost:8080/"
        },
        "outputId": "ed6f390e-f7dd-47d7-e0c4-d6c87854d609"
      },
      "execution_count": null,
      "outputs": [
        {
          "output_type": "stream",
          "name": "stdout",
          "text": [
            "\n",
            "Starting Training for 10 epochs...\n"
          ]
        }
      ]
    },
    {
      "cell_type": "markdown",
      "source": [
        "# Model Evaluation"
      ],
      "metadata": {
        "id": "z4ZMv776QCFE"
      }
    },
    {
      "cell_type": "code",
      "source": [
        "print(\"\\n--- Evaluating Model on Test Set ---\")\n",
        "model.eval()\n",
        "all_preds = []\n",
        "all_labels = []\n",
        "\n",
        "# No need to track gradients during evaluation\n",
        "with torch.no_grad():\n",
        "    n_correct = 0\n",
        "    n_samples = 0\n",
        "    for images, labels in test_loader:\n",
        "        images = images.to(device)\n",
        "        labels = labels.to(device)\n",
        "\n",
        "        outputs = model(images)  # Forward pass\n",
        "\n",
        "        # Max k calculation: value, index\n",
        "        _, predicted = torch.max(outputs.data, 1)\n",
        "        n_samples += labels.size(0)\n",
        "        n_correct += (predicted == labels).sum().item()\n",
        "\n",
        "        # Store predictions and labels for detailed metrics\n",
        "        all_preds.extend(predicted.cpu().numpy())\n",
        "        all_labels.extend(labels.cpu().numpy())\n",
        "\n",
        "# Calculate overall test accuracy\n",
        "test_acc = 100.0 * n_correct / n_samples\n",
        "print(f'Accuracy of the network on the {len(test_dataset)} test images: {test_acc:.2f} %')\n",
        "\n",
        "# --- Detailed Evaluation Metrics (using sklearn) ---\n",
        "print(\"\\n--- Detailed Evaluation Metrics ---\")\n",
        "all_preds = np.array(all_preds)\n",
        "all_labels = np.array(all_labels)\n",
        "\n",
        "# Calculate metrics\n",
        "accuracy = accuracy_score(all_labels, all_preds)\n",
        "report = classification_report(all_labels, all_preds, target_names=[str(i) for i in range(NUM_CLASSES)])\n",
        "conf_matrix = confusion_matrix(all_labels, all_preds)\n",
        "\n",
        "print(f\"Overall Test Accuracy (sklearn): {accuracy:.4f}\")\n",
        "print(\"\\nClassification Report:\")\n",
        "print(report)\n",
        "\n",
        "# Visualize Confusion Matrix\n",
        "plt.figure(figsize=(10, 8))\n",
        "sns.heatmap(conf_matrix, annot=True, fmt='d', cmap='Blues', xticklabels=range(NUM_CLASSES), yticklabels=range(NUM_CLASSES))\n",
        "plt.xlabel('Predicted Label')\n",
        "plt.ylabel('True Label')\n",
        "plt.title('Confusion Matrix (Test Set - PyTorch Training)')\n",
        "plt.show()\n",
        "\n",
        "print(\"\\nEvaluation complete.\")"
      ],
      "metadata": {
        "id": "yqiCjZrg-qVE"
      },
      "execution_count": null,
      "outputs": []
    },
    {
      "cell_type": "markdown",
      "source": [
        "# Unlearn Configuration"
      ],
      "metadata": {
        "id": "6t22Vke6QFw6"
      }
    },
    {
      "cell_type": "code",
      "source": [
        "CLASS_TO_UNLEARN_NAME = 'dog'\n",
        "CLASS_TO_UNLEARN = train_dataset_full.class_to_idx[CLASS_TO_UNLEARN_NAME]\n",
        "NUM_CLASSES = 10\n",
        "OBFUSCATION_METHOD = 'label_randomization' # Options: 'label_randomization', 'add_noise', 'replace_with_noise'\n",
        "NOISE_FACTOR = 0.6 # Used if OBFUSCATION_METHOD is 'add_noise'\n",
        "FINETUNE_EPOCHS = 10\n",
        "FINETUNE_LR = 1e-5 # Use a low learning rate for fine-tuning\n",
        "BATCH_SIZE = 64"
      ],
      "metadata": {
        "id": "zX0EBVNEtzKO"
      },
      "execution_count": null,
      "outputs": []
    },
    {
      "cell_type": "markdown",
      "source": [
        "# Device Configuration"
      ],
      "metadata": {
        "id": "jM6zB4NBQJQf"
      }
    },
    {
      "cell_type": "code",
      "source": [
        "device = torch.device(\"cuda\" if torch.cuda.is_available() else \"cpu\")\n",
        "print(f\"Using device: {device}\")"
      ],
      "metadata": {
        "colab": {
          "base_uri": "https://localhost:8080/"
        },
        "id": "_R4tQvIYzQEs",
        "outputId": "59b1b4de-8d6b-4c9a-e702-164e301c6ae4"
      },
      "execution_count": null,
      "outputs": [
        {
          "output_type": "stream",
          "name": "stdout",
          "text": [
            "Using device: cuda\n"
          ]
        }
      ]
    },
    {
      "cell_type": "markdown",
      "source": [
        "# Load Pre-trained Model"
      ],
      "metadata": {
        "id": "nkYKyo2qQMxB"
      }
    },
    {
      "cell_type": "code",
      "source": [
        "print(\"Loading pre-trained model (or initializing placeholder)...\")\n",
        "model1 = timm.create_model('vit_base_patch16_224', pretrained=True)\n",
        "model1.head = nn.Linear(model.head.in_features, NUM_CLASSES)\n",
        "model1.load_state_dict(torch.load('timm_cifar10_pytorch.pth', map_location=device))\n",
        "print(\"Model loaded (or placeholder initialized).\")\n",
        "print(model1)"
      ],
      "metadata": {
        "id": "FIwTmabI_MnT",
        "colab": {
          "base_uri": "https://localhost:8080/"
        },
        "outputId": "3e126992-8963-4718-bb95-229069118646"
      },
      "execution_count": null,
      "outputs": [
        {
          "output_type": "stream",
          "name": "stdout",
          "text": [
            "Loading pre-trained model (or initializing placeholder)...\n",
            "Model loaded (or placeholder initialized).\n",
            "CNN(\n",
            "  (conv_layer): Sequential(\n",
            "    (0): Conv2d(3, 32, kernel_size=(3, 3), stride=(1, 1), padding=(1, 1))\n",
            "    (1): ReLU()\n",
            "    (2): MaxPool2d(kernel_size=2, stride=2, padding=0, dilation=1, ceil_mode=False)\n",
            "    (3): Conv2d(32, 64, kernel_size=(3, 3), stride=(1, 1), padding=(1, 1))\n",
            "    (4): ReLU()\n",
            "    (5): MaxPool2d(kernel_size=2, stride=2, padding=0, dilation=1, ceil_mode=False)\n",
            "  )\n",
            "  (fc_layer): Sequential(\n",
            "    (0): Flatten(start_dim=1, end_dim=-1)\n",
            "    (1): Linear(in_features=4096, out_features=128, bias=True)\n",
            "    (2): ReLU()\n",
            "    (3): Linear(in_features=128, out_features=10, bias=True)\n",
            "  )\n",
            ")\n"
          ]
        }
      ]
    },
    {
      "cell_type": "markdown",
      "source": [
        "# Data Pre-Processing"
      ],
      "metadata": {
        "id": "5Lp-9gTzQQq8"
      }
    },
    {
      "cell_type": "code",
      "source": [
        "print(\"Loading CIFAR10 data...\")\n",
        "transform = transforms.Compose([\n",
        "    transforms.ToTensor(),\n",
        "    transforms.Normalize((0.1307,), (0.3081,))\n",
        "])\n",
        "\n",
        "# Load original training data\n",
        "train_dataset_full = datasets.CIFAR10(root='./data', train=True, download=True, transform=transform)\n",
        "test_dataset = datasets.CIFAR10(root='./data', train=False, download=True, transform=transform)\n",
        "\n",
        "test_loader = DataLoader(test_dataset, batch_size=BATCH_SIZE, shuffle=False)\n",
        "print(f\"Original training samples: {len(train_dataset_full)}\")\n",
        "print(f\"Test samples: {len(test_dataset)}\")\n",
        "print(train_dataset_full)"
      ],
      "metadata": {
        "colab": {
          "base_uri": "https://localhost:8080/"
        },
        "id": "-KtwZ1swzayW",
        "outputId": "6e17efe1-92c3-4998-a097-b64d0a6717a5"
      },
      "execution_count": null,
      "outputs": [
        {
          "output_type": "stream",
          "name": "stdout",
          "text": [
            "Loading CIFAR10 data...\n",
            "Original training samples: 50000\n",
            "Test samples: 10000\n",
            "Dataset CIFAR10\n",
            "    Number of datapoints: 50000\n",
            "    Root location: ./data\n",
            "    Split: Train\n",
            "    StandardTransform\n",
            "Transform: Compose(\n",
            "               ToTensor()\n",
            "               Normalize(mean=(0.1307,), std=(0.3081,))\n",
            "           )\n"
          ]
        }
      ]
    },
    {
      "cell_type": "markdown",
      "source": [
        "# Data Obfuscation"
      ],
      "metadata": {
        "id": "GUDjfIOwQUaz"
      }
    },
    {
      "cell_type": "code",
      "source": [
        "print(f\"Identifying and obfuscating data for class {CLASS_TO_UNLEARN}...\")\n",
        "\n",
        "train_data_np = train_dataset_full.data\n",
        "train_targets_np = np.array(train_dataset_full.targets)\n",
        "\n",
        "# Create copies to modify\n",
        "train_data_unlearn_np = np.copy(train_data_np)\n",
        "train_targets_unlearn_np = np.copy(train_targets_np)\n",
        "\n",
        "# Find indices of the class to unlearn\n",
        "unlearn_indices = np.where(train_targets_np == CLASS_TO_UNLEARN)[0]\n",
        "print(f\"Found {len(unlearn_indices)} samples of class {CLASS_TO_UNLEARN} in the training set.\")\n",
        "\n",
        "if len(unlearn_indices) == 0:\n",
        "    print(f\"Warning: No samples found for class {CLASS_TO_UNLEARN}. Cannot perform unlearning.\")\n",
        "else:\n",
        "    # Apply obfuscation to the numpy arrays\n",
        "    if OBFUSCATION_METHOD == 'label_randomization':\n",
        "        print(\"Applying label randomization...\")\n",
        "        for idx in unlearn_indices:\n",
        "            original_label = train_targets_unlearn_np[idx]\n",
        "            new_label = np.random.randint(0, NUM_CLASSES)\n",
        "            while new_label == original_label:\n",
        "                new_label = np.random.randint(0, NUM_CLASSES)\n",
        "            train_targets_unlearn_np[idx] = new_label\n",
        "        print(f\"Labels for class {CLASS_TO_UNLEARN} randomized.\")\n",
        "\n",
        "    elif OBFUSCATION_METHOD == 'add_noise':\n",
        "        print(f\"Adding noise (factor: {NOISE_FACTOR})...\")\n",
        "        noise = np.random.normal(loc=0.0, scale=NOISE_FACTOR * 255, size=train_data_unlearn_np[unlearn_indices].shape)\n",
        "        train_data_unlearn_np[unlearn_indices] = np.clip(train_data_unlearn_np[unlearn_indices].astype(np.float32) + noise, 0., 255.).astype(np.uint8)\n",
        "        print(f\"Noise added to images of class {CLASS_TO_UNLEARN}.\")\n",
        "\n",
        "    elif OBFUSCATION_METHOD == 'replace_with_noise':\n",
        "        print(\"Replacing images with random noise...\")\n",
        "        train_data_unlearn_np[unlearn_indices] = np.random.randint(0, 256, size=train_data_unlearn_np[unlearn_indices].shape, dtype=np.uint8)\n",
        "        for idx in unlearn_indices:\n",
        "            train_targets_unlearn_np[idx] = np.random.randint(0, NUM_CLASSES)\n",
        "        print(f\"Images of class {CLASS_TO_UNLEARN} replaced with noise and labels randomized.\")\n",
        "\n",
        "    else:\n",
        "        print(f\"Error: Unknown OBFUSCATION_METHOD '{OBFUSCATION_METHOD}'\")\n",
        "        exit()"
      ],
      "metadata": {
        "colab": {
          "base_uri": "https://localhost:8080/"
        },
        "id": "TbpFbWEJzwRC",
        "outputId": "17a45650-6138-4dd5-f9a7-bf38cb904f51"
      },
      "execution_count": null,
      "outputs": [
        {
          "output_type": "stream",
          "name": "stdout",
          "text": [
            "Identifying and obfuscating data for class 5...\n",
            "Found 5000 samples of class 5 in the training set.\n",
            "Applying label randomization...\n",
            "Labels for class 5 randomized.\n"
          ]
        }
      ]
    },
    {
      "cell_type": "markdown",
      "source": [
        "# Unlearning Dataset and DataLoader"
      ],
      "metadata": {
        "id": "LW3U140DQX3h"
      }
    },
    {
      "cell_type": "code",
      "source": [
        "print(\"Creating unlearning dataset and dataloader...\")\n",
        "\n",
        "train_data_unlearn_tensor = torch.stack([transform(img) for img in train_data_unlearn_np])\n",
        "train_targets_unlearn_tensor = torch.from_numpy(train_targets_unlearn_np).long()\n",
        "\n",
        "# Create a new TensorDataset with the modified data\n",
        "unlearn_dataset = TensorDataset(train_data_unlearn_tensor, train_targets_unlearn_tensor)\n",
        "unlearn_loader = DataLoader(unlearn_dataset, batch_size=BATCH_SIZE, shuffle=True)\n",
        "print(\"Unlearning DataLoader created.\")"
      ],
      "metadata": {
        "colab": {
          "base_uri": "https://localhost:8080/"
        },
        "id": "gFLRBLL1z3dA",
        "outputId": "a296a97c-652d-4ae6-c30f-964100e8e9ac"
      },
      "execution_count": null,
      "outputs": [
        {
          "output_type": "stream",
          "name": "stdout",
          "text": [
            "Creating unlearning dataset and dataloader...\n",
            "Unlearning DataLoader created.\n"
          ]
        }
      ]
    },
    {
      "cell_type": "markdown",
      "source": [
        "# Fine-Tune Model"
      ],
      "metadata": {
        "id": "XvNox6l9QbY5"
      }
    },
    {
      "cell_type": "code",
      "source": [
        "print(\"Starting fine-tuning process...\")\n",
        "\n",
        "criterion = nn.CrossEntropyLoss()\n",
        "# Use a low learning rate for the optimizer during fine-tuning\n",
        "optimizer = optim.Adam(model1.parameters(), lr=FINETUNE_LR)\n",
        "\n",
        "model1.train() # Set model to training mode\n",
        "\n",
        "for epoch in range(FINETUNE_EPOCHS):\n",
        "    running_loss = 0.0\n",
        "    correct_predictions = 0\n",
        "    total_samples = 0\n",
        "    for i, (inputs, labels) in enumerate(unlearn_loader):\n",
        "        inputs, labels = inputs.to(device), labels.to(device)\n",
        "\n",
        "        # Zero the parameter gradients\n",
        "        optimizer.zero_grad()\n",
        "\n",
        "        # Forward pass\n",
        "        outputs = model1(inputs)\n",
        "        loss = criterion(outputs, labels)\n",
        "\n",
        "        # Backward pass and optimize\n",
        "        loss.backward()\n",
        "        optimizer.step()\n",
        "\n",
        "        # Print statistics\n",
        "        running_loss += loss.item() * inputs.size(0)\n",
        "        _, predicted = torch.max(outputs.data, 1)\n",
        "        total_samples += labels.size(0)\n",
        "        correct_predictions += (predicted == labels).sum().item()\n",
        "\n",
        "    epoch_loss = running_loss / total_samples\n",
        "    epoch_acc = correct_predictions / total_samples\n",
        "    print(f'Fine-tuning Epoch [{epoch+1}/{FINETUNE_EPOCHS}], Loss: {epoch_loss:.4f}, Accuracy: {epoch_acc:.4f}')\n",
        "\n",
        "print(\"Fine-tuning complete.\")\n",
        "# Save the unlearned model\n",
        "torch.save(model1.state_dict(), 'mnist_mlp_model_unlearned_pytorch.pth')\n",
        "print(\"Unlearned model saved.\")"
      ],
      "metadata": {
        "colab": {
          "base_uri": "https://localhost:8080/"
        },
        "id": "QF_5JZNIz9Nt",
        "outputId": "3e91a275-78b0-4fce-98c0-2a46074ac62e"
      },
      "execution_count": null,
      "outputs": [
        {
          "output_type": "stream",
          "name": "stdout",
          "text": [
            "Starting fine-tuning process...\n",
            "Fine-tuning Epoch [1/10], Loss: 0.8909, Accuracy: 0.7792\n",
            "Fine-tuning Epoch [2/10], Loss: 0.8472, Accuracy: 0.7862\n",
            "Fine-tuning Epoch [3/10], Loss: 0.8120, Accuracy: 0.7921\n",
            "Fine-tuning Epoch [4/10], Loss: 0.7823, Accuracy: 0.7980\n",
            "Fine-tuning Epoch [5/10], Loss: 0.7568, Accuracy: 0.8026\n",
            "Fine-tuning Epoch [6/10], Loss: 0.7342, Accuracy: 0.8066\n",
            "Fine-tuning Epoch [7/10], Loss: 0.7138, Accuracy: 0.8106\n",
            "Fine-tuning Epoch [8/10], Loss: 0.6953, Accuracy: 0.8145\n",
            "Fine-tuning Epoch [9/10], Loss: 0.6786, Accuracy: 0.8184\n",
            "Fine-tuning Epoch [10/10], Loss: 0.6632, Accuracy: 0.8220\n",
            "Fine-tuning complete.\n",
            "Unlearned model saved.\n"
          ]
        }
      ]
    },
    {
      "cell_type": "markdown",
      "source": [
        "# Model Evaluation (Unlearned Model)"
      ],
      "metadata": {
        "id": "rGM8I-b4QfSu"
      }
    },
    {
      "cell_type": "code",
      "source": [
        "print(\"\\n--- Evaluating Unlearned Model ---\")\n",
        "\n",
        "model1.eval() # Set model to evaluation mode\n",
        "all_preds = []\n",
        "all_labels = []\n",
        "with torch.no_grad(): # Disable gradient calculation for evaluation\n",
        "    for inputs, labels in test_loader:\n",
        "        inputs, labels = inputs.to(device), labels.to(device)\n",
        "        outputs = model1(inputs)\n",
        "        _, predicted = torch.max(outputs.data, 1)\n",
        "        all_preds.extend(predicted.cpu().numpy()) # Move predictions to CPU and store\n",
        "        all_labels.extend(labels.cpu().numpy())   # Move labels to CPU and store\n",
        "\n",
        "# Convert lists to numpy arrays\n",
        "all_preds = np.array(all_preds)\n",
        "all_labels = np.array(all_labels)\n",
        "\n",
        "# Calculate overall metrics using sklearn\n",
        "accuracy = accuracy_score(all_labels, all_preds)\n",
        "report = classification_report(all_labels, all_preds, target_names=[str(i) for i in range(NUM_CLASSES)])\n",
        "conf_matrix = confusion_matrix(all_labels, all_preds)\n",
        "\n",
        "print(f\"Overall Test Accuracy: {accuracy:.4f}\")\n",
        "print(\"\\nClassification Report:\")\n",
        "print(report)\n",
        "\n",
        "# Analyze performance specifically for the unlearned class\n",
        "class_7_indices_test = np.where(all_labels == CLASS_TO_UNLEARN)[0]\n",
        "if len(class_7_indices_test) > 0:\n",
        "    y_test_class_7 = all_labels[class_7_indices_test]\n",
        "    y_pred_class_7 = all_preds[class_7_indices_test]\n",
        "    accuracy_class_7 = accuracy_score(y_test_class_7, y_pred_class_7)\n",
        "    print(f\"\\nAccuracy specifically for class {CLASS_TO_UNLEARN}: {accuracy_class_7:.4f}\")\n",
        "    print(f\"(Expected to be low if unlearning was successful)\")\n",
        "else:\n",
        "    print(f\"\\nNo samples of class {CLASS_TO_UNLEARN} found in the test set for specific evaluation.\")\n",
        "\n",
        "\n",
        "# Visualize Confusion Matrix\n",
        "plt.figure(figsize=(10, 8))\n",
        "sns.heatmap(conf_matrix, annot=True, fmt='d', cmap='Blues', xticklabels=range(NUM_CLASSES), yticklabels=range(NUM_CLASSES))\n",
        "plt.xlabel('Predicted Label')\n",
        "plt.ylabel('True Label')\n",
        "plt.title('Confusion Matrix (After Unlearning - PyTorch)')\n",
        "plt.show()\n",
        "\n",
        "print(\"\\nEvaluation complete. Check the classification report and confusion matrix.\")\n",
        "print(f\"Pay attention to the row/column corresponding to class {CLASS_TO_UNLEARN}.\")"
      ],
      "metadata": {
        "colab": {
          "base_uri": "https://localhost:8080/",
          "height": 1000
        },
        "id": "w-5VHMXQ0D6-",
        "outputId": "6768e4f5-486b-4819-cd61-cf22e9fcd3f4"
      },
      "execution_count": null,
      "outputs": [
        {
          "output_type": "stream",
          "name": "stdout",
          "text": [
            "\n",
            "--- Evaluating Unlearned Model ---\n",
            "Overall Test Accuracy: 0.6473\n",
            "\n",
            "Classification Report:\n",
            "              precision    recall  f1-score   support\n",
            "\n",
            "           0       0.66      0.76      0.70      1000\n",
            "           1       0.76      0.80      0.78      1000\n",
            "           2       0.55      0.59      0.57      1000\n",
            "           3       0.45      0.53      0.49      1000\n",
            "           4       0.59      0.64      0.61      1000\n",
            "           5       1.00      0.01      0.02      1000\n",
            "           6       0.69      0.78      0.73      1000\n",
            "           7       0.67      0.76      0.72      1000\n",
            "           8       0.75      0.80      0.77      1000\n",
            "           9       0.72      0.79      0.76      1000\n",
            "\n",
            "    accuracy                           0.65     10000\n",
            "   macro avg       0.68      0.65      0.62     10000\n",
            "weighted avg       0.68      0.65      0.62     10000\n",
            "\n",
            "\n",
            "Accuracy specifically for class 5: 0.0110\n",
            "(Expected to be low if unlearning was successful)\n"
          ]
        },
        {
          "output_type": "display_data",
          "data": {
            "text/plain": [
              "<Figure size 1000x800 with 2 Axes>"
            ],
            "image/png": "[encoded data removed]"
          },
          "metadata": {}
        },
        {
          "output_type": "stream",
          "name": "stdout",
          "text": [
            "\n",
            "Evaluation complete. Check the classification report and confusion matrix.\n",
            "Pay attention to the row/column corresponding to class 5.\n"
          ]
        }
      ]
    }
  ]
}